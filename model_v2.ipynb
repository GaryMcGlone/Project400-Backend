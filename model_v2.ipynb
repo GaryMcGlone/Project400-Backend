{
 "cells": [
  {
   "cell_type": "code",
   "execution_count": 1,
   "metadata": {},
   "outputs": [],
   "source": [
    "import warnings\n",
    "warnings.filterwarnings('ignore')\n",
    "\n",
    "import pandas as pd\n",
    "import numpy as np\n",
    "import matplotlib.pyplot as plt\n",
    "import seaborn as sns\n",
    "\n",
    "import sklearn\n",
    "from sklearn.model_selection import train_test_split\n",
    "from sklearn.svm import SVC\n",
    "from sklearn.pipeline import Pipeline\n",
    "from sklearn.model_selection import GridSearchCV\n",
    "from sklearn.metrics import confusion_matrix\n",
    "from sklearn.feature_extraction.text import TfidfVectorizer\n",
    "\n",
    "import nltk\n",
    "from nltk.stem import WordNetLemmatizer\n",
    "from nltk.corpus import stopwords\n",
    "from nltk import ngrams\n",
    "\n",
    "import re\n",
    "import collections\n",
    "from bs4 import BeautifulSoup\n",
    "from nltk.tokenize import WordPunctTokenizer\n"
   ]
  },
  {
   "cell_type": "code",
   "execution_count": 2,
   "metadata": {},
   "outputs": [],
   "source": [
    "## Clean tweets dataset\n",
    "tok = WordPunctTokenizer()\n",
    "pat1 = r'@[A-Za-z0-9]+'\n",
    "pat2 = r'https?://[A-Za-z0-9./]+'\n",
    "combined_pat = r'|'.join((pat1, pat2))\n",
    "\n",
    "def clean(text):\n",
    "    soup = BeautifulSoup(text, 'lxml')\n",
    "    souped = soup.get_text()\n",
    "    stripped = re.sub(combined_pat, '', souped)\n",
    "    try:\n",
    "        clean = stripped.decode(\"utf-8-sig\").replace(u\"\\ufffd\", \"?\")\n",
    "    except:\n",
    "        clean = stripped\n",
    "    letters_only = re.sub(\"[^a-zA-Z]\", \" \", clean)\n",
    "    lower_case = letters_only.lower()\n",
    "    words = tok.tokenize(lower_case)\n",
    "    return (\" \".join(words)).strip()"
   ]
  },
  {
   "cell_type": "code",
   "execution_count": 3,
   "metadata": {},
   "outputs": [],
   "source": [
    "pd.set_option('display.max_colwidth', -1)\n",
    "\n",
    "train = pd.read_csv(open('data/train.csv','rU'), encoding='utf-8', engine='python')\n",
    "test = pd.read_csv(open('data/test.csv','rU'), encoding='utf-8', engine='python')\n",
    "\n",
    "train = train.sample(frac=.05001)\n",
    "test = test.sample(frac=.016666)\n",
    "\n",
    "train['cleaned_tweet'] = train.SentimentText.apply(clean)\n",
    "test['cleaned_tweet'] = test.SentimentText.apply(clean)\n",
    "\n",
    "test_1 = pd.read_csv('data/unclassified_1.csv')\n",
    "test_2 = pd.read_csv('data/unclassified_1.csv')\n",
    "\n",
    "#display(train.head(5))\n",
    "\n",
    "X = train.SentimentText\n",
    "y = train.Sentiment\n",
    "\n",
    "X_unclassified = test.cleaned_tweet.values\n",
    "\n",
    "\n",
    "#print(X.shape)\n",
    "#print(X_test.shape)"
   ]
  },
  {
   "cell_type": "code",
   "execution_count": 4,
   "metadata": {},
   "outputs": [
    {
     "name": "stdout",
     "output_type": "stream",
     "text": [
      "Count Vect and SVC Best Options:  {'svc__C': 1, 'svc__kernel': 'linear', 'tfidf__max_df': 0.25, 'tfidf__ngram_range': (1, 3), 'tfidf__stop_words': 'english'}\n",
      "Count Vect and SVc Model performance:  70.4 %\n"
     ]
    }
   ],
   "source": [
    "tfidf = TfidfVectorizer()\n",
    "svc_tfidf = SVC()\n",
    "\n",
    "svc_tfidf_pipeline = Pipeline([('tfidf', tfidf),('svc', svc_tfidf)])\n",
    "\n",
    "svc_tfidf_param_grid = {\n",
    "    'tfidf__max_df': (0.25, 0.5, 0.75),\n",
    "    'tfidf__ngram_range': [(1, 1), (1, 2), (1, 3)],\n",
    "    'tfidf__stop_words' : ['english'],\n",
    "    'svc__C': [1, 2, 100, 200],\n",
    "    'svc__kernel': ['linear']\n",
    "}\n",
    "\n",
    "## Cross Validate\n",
    "svc_tfidf_model = GridSearchCV(svc_tfidf_pipeline, svc_tfidf_param_grid)\n",
    "svc_tfidf_model.fit(X, y)\n",
    "\n",
    "## Results\n",
    "print('TF-IDF and SVC Best Options: ', svc_tfidf_model.best_params_)\n",
    "print('TF-IDF and SVc Model performance: ',round(svc_tfidf_model.best_score_ * 100, 2) ,'%')"
   ]
  },
  {
   "cell_type": "code",
   "execution_count": 5,
   "metadata": {},
   "outputs": [
    {
     "data": {
      "text/plain": [
       "Pipeline(memory=None,\n",
       "         steps=[('tfidf',\n",
       "                 TfidfVectorizer(analyzer='word', binary=False,\n",
       "                                 decode_error='strict',\n",
       "                                 dtype=<class 'numpy.float64'>,\n",
       "                                 encoding='utf-8', input='content',\n",
       "                                 lowercase=True, max_df=0.25, max_features=None,\n",
       "                                 min_df=1, ngram_range=(1, 3), norm='l2',\n",
       "                                 preprocessor=None, smooth_idf=True,\n",
       "                                 stop_words='english', strip_accents=None,\n",
       "                                 sublinear_tf=False,\n",
       "                                 token_pattern='(?u)\\\\b\\\\w\\\\w+\\\\b',\n",
       "                                 tokenizer=None, use_idf=True,\n",
       "                                 vocabulary=None)),\n",
       "                ('svc',\n",
       "                 SVC(C=1, break_ties=False, cache_size=200, class_weight=None,\n",
       "                     coef0=0.0, decision_function_shape='ovr', degree=3,\n",
       "                     gamma='scale', kernel='linear', max_iter=-1,\n",
       "                     probability=False, random_state=None, shrinking=True,\n",
       "                     tol=0.001, verbose=False))],\n",
       "         verbose=False)"
      ]
     },
     "execution_count": 5,
     "metadata": {},
     "output_type": "execute_result"
    }
   ],
   "source": [
    "svc_tfidf_model.best_estimator_"
   ]
  },
  {
   "cell_type": "code",
   "execution_count": 6,
   "metadata": {},
   "outputs": [
    {
     "name": "stdout",
     "output_type": "stream",
     "text": [
      "TRAIN SHAPES: X = (4000,), y = (4000,)\n",
      "\n",
      "TEST SHAPES: X = (1000,), y = (1000,)\n"
     ]
    }
   ],
   "source": [
    "X_train, X_test, y_train, y_test = train_test_split(X, y, random_state=171995, test_size=0.2)\n",
    "\n",
    "print(f'TRAIN SHAPES: X = {X_train.shape}, y = {y_train.shape}')\n",
    "print(f'\\nTEST SHAPES: X = {X_test.shape}, y = {y_test.shape}')\n",
    "\n",
    "feature_extraction = svc_tfidf_model.best_estimator_['tfidf']\n",
    "X_train = feature_extraction.fit_transform(X_train)"
   ]
  },
  {
   "cell_type": "code",
   "execution_count": 7,
   "metadata": {},
   "outputs": [
    {
     "name": "stdout",
     "output_type": "stream",
     "text": [
      "\n",
      "TEST SHAPES: X = (1000, 54632), y = (1000,)\n",
      "Accuracy: 69.1%\n"
     ]
    }
   ],
   "source": [
    "new_model = svc_tfidf_model.best_estimator_['svc']\n",
    "new_model.fit(X_train, y_train)\n",
    "\n",
    "X_test = feature_extraction.transform(X_test)\n",
    "print(f'\\nTEST SHAPES: X = {X_test.shape}, y = {y_test.shape}')\n",
    "print(f'Accuracy: {new_model.score(X_test,y_test) * 100}%')"
   ]
  },
  {
   "cell_type": "code",
   "execution_count": 8,
   "metadata": {},
   "outputs": [
    {
     "data": {
      "text/html": [
       "<div>\n",
       "<style scoped>\n",
       "    .dataframe tbody tr th:only-of-type {\n",
       "        vertical-align: middle;\n",
       "    }\n",
       "\n",
       "    .dataframe tbody tr th {\n",
       "        vertical-align: top;\n",
       "    }\n",
       "\n",
       "    .dataframe thead th {\n",
       "        text-align: right;\n",
       "    }\n",
       "</style>\n",
       "<table border=\"1\" class=\"dataframe\">\n",
       "  <thead>\n",
       "    <tr style=\"text-align: right;\">\n",
       "      <th></th>\n",
       "      <th>tweet</th>\n",
       "      <th>predictions</th>\n",
       "    </tr>\n",
       "  </thead>\n",
       "  <tbody>\n",
       "    <tr>\n",
       "      <th>0</th>\n",
       "      <td>[party, pre, thankyou, wedding, yes]</td>\n",
       "      <td>1</td>\n",
       "    </tr>\n",
       "    <tr>\n",
       "      <th>1</th>\n",
       "      <td>[alexalltimelow, com, dude, http, http twitpic, http twitpic com, love, love picture, picture, shit, try, twitpic, twitpic com, ve, ve wanted, wanted, wantz, yo]</td>\n",
       "      <td>1</td>\n",
       "    </tr>\n",
       "    <tr>\n",
       "      <th>2</th>\n",
       "      <td>[f1, start]</td>\n",
       "      <td>0</td>\n",
       "    </tr>\n",
       "    <tr>\n",
       "      <th>3</th>\n",
       "      <td>[damn, does, fifth, quot, straight, wins]</td>\n",
       "      <td>1</td>\n",
       "    </tr>\n",
       "    <tr>\n",
       "      <th>4</th>\n",
       "      <td>[eating, editing, shoot, wife, yesterday]</td>\n",
       "      <td>1</td>\n",
       "    </tr>\n",
       "    <tr>\n",
       "      <th>5</th>\n",
       "      <td>[102, day, face, haters, thanks]</td>\n",
       "      <td>1</td>\n",
       "    </tr>\n",
       "    <tr>\n",
       "      <th>6</th>\n",
       "      <td>[family, kate, poor, sigh, team]</td>\n",
       "      <td>0</td>\n",
       "    </tr>\n",
       "    <tr>\n",
       "      <th>7</th>\n",
       "      <td>[ali, guess, know, life, lol, pretty, ve, week]</td>\n",
       "      <td>1</td>\n",
       "    </tr>\n",
       "    <tr>\n",
       "      <th>8</th>\n",
       "      <td>[friday, getting, getting ready, ready, weekend]</td>\n",
       "      <td>0</td>\n",
       "    </tr>\n",
       "    <tr>\n",
       "      <th>9</th>\n",
       "      <td>[discovered, music, nice, night, really, saw]</td>\n",
       "      <td>1</td>\n",
       "    </tr>\n",
       "  </tbody>\n",
       "</table>\n",
       "</div>"
      ],
      "text/plain": [
       "                                                                                                                                                               tweet  \\\n",
       "0  [party, pre, thankyou, wedding, yes]                                                                                                                                \n",
       "1  [alexalltimelow, com, dude, http, http twitpic, http twitpic com, love, love picture, picture, shit, try, twitpic, twitpic com, ve, ve wanted, wanted, wantz, yo]   \n",
       "2  [f1, start]                                                                                                                                                         \n",
       "3  [damn, does, fifth, quot, straight, wins]                                                                                                                           \n",
       "4  [eating, editing, shoot, wife, yesterday]                                                                                                                           \n",
       "5  [102, day, face, haters, thanks]                                                                                                                                    \n",
       "6  [family, kate, poor, sigh, team]                                                                                                                                    \n",
       "7  [ali, guess, know, life, lol, pretty, ve, week]                                                                                                                     \n",
       "8  [friday, getting, getting ready, ready, weekend]                                                                                                                    \n",
       "9  [discovered, music, nice, night, really, saw]                                                                                                                       \n",
       "\n",
       "   predictions  \n",
       "0  1            \n",
       "1  1            \n",
       "2  0            \n",
       "3  1            \n",
       "4  1            \n",
       "5  1            \n",
       "6  0            \n",
       "7  1            \n",
       "8  0            \n",
       "9  1            "
      ]
     },
     "execution_count": 8,
     "metadata": {},
     "output_type": "execute_result"
    }
   ],
   "source": [
    "y_predictions = new_model.predict(X_test)\n",
    "\n",
    "data = {'tweet': [x for x in feature_extraction.inverse_transform(X_test)], 'predictions': [ i for i in y_predictions ] }\n",
    "df = pd.DataFrame(data=data)\n",
    "df.head(10)"
   ]
  },
  {
   "cell_type": "code",
   "execution_count": 9,
   "metadata": {},
   "outputs": [
    {
     "data": {
      "text/plain": [
       "<matplotlib.axes._subplots.AxesSubplot at 0x262a6cbae48>"
      ]
     },
     "execution_count": 9,
     "metadata": {},
     "output_type": "execute_result"
    },
    {
     "data": {
      "image/png": "[encoded data removed]",
      "text/plain": [
       "<Figure size 720x504 with 2 Axes>"
      ]
     },
     "metadata": {
      "needs_background": "light"
     },
     "output_type": "display_data"
    }
   ],
   "source": [
    "## MODEL EVALUATION\n",
    "\n",
    "c_matrix = confusion_matrix(y_test, y_predictions)\n",
    "\n",
    "plt.figure(figsize=(10,7))\n",
    "plt.title('Confusion Matrix Heat Map',fontsize=24)\n",
    "sns.heatmap(c_matrix ,cmap='coolwarm',annot=True, fmt='g')"
   ]
  },
  {
   "cell_type": "code",
   "execution_count": 10,
   "metadata": {},
   "outputs": [
    {
     "data": {
      "text/plain": [
       "['model_artifacts/tfidf_vectorizer.sav']"
      ]
     },
     "execution_count": 10,
     "metadata": {},
     "output_type": "execute_result"
    }
   ],
   "source": [
    "## Exporting Model Artifacts to use them in a Flask API\n",
    "from sklearn.externals import joblib\n",
    "\n",
    "joblib.dump(new_model, 'model_artifacts/model.sav')\n",
    "joblib.dump(feature_extraction, 'model_artifacts/tfidf_vectorizer.sav')"
   ]
  },
  {
   "cell_type": "code",
   "execution_count": 11,
   "metadata": {},
   "outputs": [
    {
     "name": "stdout",
     "output_type": "stream",
     "text": [
      "[0 1]\n"
     ]
    }
   ],
   "source": [
    "x = [\n",
    "    \"terrible app doens't work, wast of time, don't buy\",\n",
    "    \"very nice application, would buy\",\n",
    "]\n",
    "\n",
    "\n",
    "print(new_model.predict(feature_extraction.transform(x)))"
   ]
  },
  {
   "cell_type": "code",
   "execution_count": 12,
   "metadata": {},
   "outputs": [
    {
     "name": "stdout",
     "output_type": "stream",
     "text": [
      "The scikit-learn version is 0.22.2.post1.\n"
     ]
    }
   ],
   "source": [
    "print('The scikit-learn version is {}.'.format(sklearn.__version__))"
   ]
  },
  {
   "cell_type": "code",
   "execution_count": 21,
   "metadata": {},
   "outputs": [
    {
     "data": {
      "text/plain": [
       "0.5559"
      ]
     },
     "execution_count": 21,
     "metadata": {},
     "output_type": "execute_result"
    }
   ],
   "source": [
    "from sklearn.metrics import mean_squared_error\n",
    "from sklearn.metrics import log_loss\n",
    "round(mean_squared_error(y_test, y_predictions, squared=False),4)"
   ]
  },
  {
   "cell_type": "code",
   "execution_count": null,
   "metadata": {},
   "outputs": [],
   "source": []
  }
 ],
 "metadata": {
  "kernelspec": {
   "display_name": "Python 3",
   "language": "python",
   "name": "python3"
  },
  "language_info": {
   "codemirror_mode": {
    "name": "ipython",
    "version": 3
   },
   "file_extension": ".py",
   "mimetype": "text/x-python",
   "name": "python",
   "nbconvert_exporter": "python",
   "pygments_lexer": "ipython3",
   "version": "3.7.3"
  }
 },
 "nbformat": 4,
 "nbformat_minor": 2
}
